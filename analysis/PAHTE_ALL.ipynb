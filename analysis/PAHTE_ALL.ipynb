{
  "nbformat": 4,
  "nbformat_minor": 0,
  "metadata": {
    "colab": {
      "name": "PAHTE_ALL.ipynb",
      "provenance": [],
      "collapsed_sections": [],
      "toc_visible": true
    },
    "kernelspec": {
      "name": "python3",
      "display_name": "Python 3"
    }
  },
  "cells": [
    {
      "cell_type": "markdown",
      "metadata": {
        "id": "i-Bd0gY1R_qp"
      },
      "source": [
        "# Library and System Setup"
      ]
    },
    {
      "cell_type": "code",
      "metadata": {
        "id": "LrBwS-cHSHVK",
        "outputId": "ce73c072-b126-40ad-934d-c9138af185f2",
        "colab": {
          "base_uri": "https://localhost:8080/",
          "height": 391
        }
      },
      "source": [
        "!pip install phate"
      ],
      "execution_count": null,
      "outputs": [
        {
          "output_type": "stream",
          "text": [
            "Requirement already satisfied: phate in /usr/local/lib/python3.6/dist-packages (1.0.4)\n",
            "Requirement already satisfied: scipy>=1.1.0 in /usr/local/lib/python3.6/dist-packages (from phate) (1.4.1)\n",
            "Requirement already satisfied: graphtools>=1.3.1 in /usr/local/lib/python3.6/dist-packages (from phate) (1.5.2)\n",
            "Requirement already satisfied: scprep>=0.11.1 in /usr/local/lib/python3.6/dist-packages (from phate) (1.0.6)\n",
            "Requirement already satisfied: Deprecated in /usr/local/lib/python3.6/dist-packages (from phate) (1.2.10)\n",
            "Requirement already satisfied: s-gd2>=1.5 in /usr/local/lib/python3.6/dist-packages (from phate) (1.8)\n",
            "Requirement already satisfied: matplotlib>=3.0 in /usr/local/lib/python3.6/dist-packages (from phate) (3.2.2)\n",
            "Requirement already satisfied: numpy>=1.16.0 in /usr/local/lib/python3.6/dist-packages (from phate) (1.18.5)\n",
            "Requirement already satisfied: tasklogger>=1.0 in /usr/local/lib/python3.6/dist-packages (from phate) (1.0.0)\n",
            "Requirement already satisfied: scikit-learn>=0.20.0 in /usr/local/lib/python3.6/dist-packages (from phate) (0.22.2.post1)\n",
            "Requirement already satisfied: future in /usr/local/lib/python3.6/dist-packages (from phate) (0.16.0)\n",
            "Requirement already satisfied: pygsp>=0.5.1 in /usr/local/lib/python3.6/dist-packages (from graphtools>=1.3.1->phate) (0.5.1)\n",
            "Requirement already satisfied: pandas>=0.25 in /usr/local/lib/python3.6/dist-packages (from scprep>=0.11.1->phate) (1.0.5)\n",
            "Requirement already satisfied: decorator>=4.3.0 in /usr/local/lib/python3.6/dist-packages (from scprep>=0.11.1->phate) (4.4.2)\n",
            "Requirement already satisfied: wrapt<2,>=1.10 in /usr/local/lib/python3.6/dist-packages (from Deprecated->phate) (1.12.1)\n",
            "Requirement already satisfied: python-dateutil>=2.1 in /usr/local/lib/python3.6/dist-packages (from matplotlib>=3.0->phate) (2.8.1)\n",
            "Requirement already satisfied: cycler>=0.10 in /usr/local/lib/python3.6/dist-packages (from matplotlib>=3.0->phate) (0.10.0)\n",
            "Requirement already satisfied: kiwisolver>=1.0.1 in /usr/local/lib/python3.6/dist-packages (from matplotlib>=3.0->phate) (1.2.0)\n",
            "Requirement already satisfied: pyparsing!=2.0.4,!=2.1.2,!=2.1.6,>=2.0.1 in /usr/local/lib/python3.6/dist-packages (from matplotlib>=3.0->phate) (2.4.7)\n",
            "Requirement already satisfied: joblib>=0.11 in /usr/local/lib/python3.6/dist-packages (from scikit-learn>=0.20.0->phate) (0.16.0)\n",
            "Requirement already satisfied: pytz>=2017.2 in /usr/local/lib/python3.6/dist-packages (from pandas>=0.25->scprep>=0.11.1->phate) (2018.9)\n",
            "Requirement already satisfied: six>=1.5 in /usr/local/lib/python3.6/dist-packages (from python-dateutil>=2.1->matplotlib>=3.0->phate) (1.15.0)\n"
          ],
          "name": "stdout"
        }
      ]
    },
    {
      "cell_type": "code",
      "metadata": {
        "id": "R7MdQFjHSKDh"
      },
      "source": [
        "import matplotlib.pyplot as plt\n",
        "import numpy as np\n",
        "import pandas as pd\n",
        "import phate"
      ],
      "execution_count": null,
      "outputs": []
    },
    {
      "cell_type": "code",
      "metadata": {
        "id": "WecQUMmeMEX6"
      },
      "source": [
        "class k_means:\n",
        "    def __init__(self,data,k=3,colmap = None ,iter=100):\n",
        "        self.data=data\n",
        "        self.data.loc[:,'sum_score']=pd.DataFrame.multiply(self.data.iloc[:,:7],[5,3,6,3,2,5,6],axis=1).sum(axis=1)\n",
        "        self.k=k\n",
        "        self.shape=data.shape\n",
        "        self.colmap=colmap\n",
        "        self.iter=100\n",
        "    def initialize(self):\n",
        "        np.random.seed(1200)\n",
        "        self.centroids=pd.DataFrame({i+1:np.random.rand(self.shape[1]) for i in range(self.k)}).T\n",
        "    def assignment(self):\n",
        "        centroid_distance_cols = ['distance_from_{}'.format(i) for i in self.centroids.index]\n",
        "        for i in self.centroids.index:\n",
        "            self.data.loc[:,'distance_from_{}'.format(i)]=np.sum((self.data.iloc[:,0:self.shape[1]]-self.centroids.loc[i,:])**2, axis=1)\n",
        "        self.data.loc[:,'cluster']=self.data.loc[:, centroid_distance_cols].idxmin(axis=1)\n",
        "        self.data.loc[:,'cluster'] = self.data.loc[:,'cluster'].map(lambda x: int(x.lstrip('distance_from_')))\n",
        "        if self.colmap!=None:\n",
        "            self.data.loc[:,'color'] = self.data.loc[:,'cluster'].map(lambda x: self.colmap[x])\n",
        "    def update(self):\n",
        "        for i in self.centroids.index:\n",
        "            self.centroids.loc[i,:]=np.mean(self.data[self.data['cluster']==i],axis=0)\n",
        "        self.assignment()\n",
        "    def n_iter(self,n):\n",
        "        for i in range(n):\n",
        "            self.update()\n",
        "    def cluster(self):\n",
        "        self.initialize()\n",
        "        self.assignment()\n",
        "        for i in range(self.iter):\n",
        "            self.update()\n",
        "    def get_cluster(self):  \n",
        "            return self.data['cluster']\n",
        "    def cluster_return(self):\n",
        "            self.cluster()\n",
        "            return self.get_cluster()"
      ],
      "execution_count": null,
      "outputs": []
    },
    {
      "cell_type": "markdown",
      "metadata": {
        "id": "p8_EAKP4R0-r"
      },
      "source": [
        "# Import and Clean and Prepare Data"
      ]
    },
    {
      "cell_type": "code",
      "metadata": {
        "id": "8j_fXJkhRyVn"
      },
      "source": [
        "raw_data=pd.read_csv('/content/MoCA7domains.csv', header=None)"
      ],
      "execution_count": null,
      "outputs": []
    },
    {
      "cell_type": "code",
      "metadata": {
        "id": "rWHErs6jVV_Q",
        "outputId": "72328fd0-44c8-4e72-f296-75b8f1455d87",
        "colab": {
          "base_uri": "https://localhost:8080/",
          "height": 204
        }
      },
      "source": [
        "raw_data.head()"
      ],
      "execution_count": null,
      "outputs": [
        {
          "output_type": "execute_result",
          "data": {
            "text/html": [
              "<div>\n",
              "<style scoped>\n",
              "    .dataframe tbody tr th:only-of-type {\n",
              "        vertical-align: middle;\n",
              "    }\n",
              "\n",
              "    .dataframe tbody tr th {\n",
              "        vertical-align: top;\n",
              "    }\n",
              "\n",
              "    .dataframe thead th {\n",
              "        text-align: right;\n",
              "    }\n",
              "</style>\n",
              "<table border=\"1\" class=\"dataframe\">\n",
              "  <thead>\n",
              "    <tr style=\"text-align: right;\">\n",
              "      <th></th>\n",
              "      <th>0</th>\n",
              "      <th>1</th>\n",
              "      <th>2</th>\n",
              "      <th>3</th>\n",
              "      <th>4</th>\n",
              "      <th>5</th>\n",
              "      <th>6</th>\n",
              "    </tr>\n",
              "  </thead>\n",
              "  <tbody>\n",
              "    <tr>\n",
              "      <th>0</th>\n",
              "      <td>0.8</td>\n",
              "      <td>1.00000</td>\n",
              "      <td>1.00000</td>\n",
              "      <td>0.00000</td>\n",
              "      <td>1.0</td>\n",
              "      <td>0.0</td>\n",
              "      <td>0.50000</td>\n",
              "    </tr>\n",
              "    <tr>\n",
              "      <th>1</th>\n",
              "      <td>0.2</td>\n",
              "      <td>1.00000</td>\n",
              "      <td>0.66667</td>\n",
              "      <td>0.66667</td>\n",
              "      <td>0.5</td>\n",
              "      <td>0.0</td>\n",
              "      <td>0.33333</td>\n",
              "    </tr>\n",
              "    <tr>\n",
              "      <th>2</th>\n",
              "      <td>1.0</td>\n",
              "      <td>0.66667</td>\n",
              "      <td>1.00000</td>\n",
              "      <td>0.66667</td>\n",
              "      <td>0.0</td>\n",
              "      <td>0.4</td>\n",
              "      <td>1.00000</td>\n",
              "    </tr>\n",
              "    <tr>\n",
              "      <th>3</th>\n",
              "      <td>0.2</td>\n",
              "      <td>1.00000</td>\n",
              "      <td>0.33333</td>\n",
              "      <td>0.66667</td>\n",
              "      <td>0.5</td>\n",
              "      <td>0.8</td>\n",
              "      <td>0.50000</td>\n",
              "    </tr>\n",
              "    <tr>\n",
              "      <th>4</th>\n",
              "      <td>0.8</td>\n",
              "      <td>1.00000</td>\n",
              "      <td>1.00000</td>\n",
              "      <td>1.00000</td>\n",
              "      <td>1.0</td>\n",
              "      <td>0.2</td>\n",
              "      <td>1.00000</td>\n",
              "    </tr>\n",
              "  </tbody>\n",
              "</table>\n",
              "</div>"
            ],
            "text/plain": [
              "     0        1        2        3    4    5        6\n",
              "0  0.8  1.00000  1.00000  0.00000  1.0  0.0  0.50000\n",
              "1  0.2  1.00000  0.66667  0.66667  0.5  0.0  0.33333\n",
              "2  1.0  0.66667  1.00000  0.66667  0.0  0.4  1.00000\n",
              "3  0.2  1.00000  0.33333  0.66667  0.5  0.8  0.50000\n",
              "4  0.8  1.00000  1.00000  1.00000  1.0  0.2  1.00000"
            ]
          },
          "metadata": {
            "tags": []
          },
          "execution_count": 5
        }
      ]
    },
    {
      "cell_type": "code",
      "metadata": {
        "id": "ZJv4M0rbWC3t",
        "outputId": "a8dc6055-d4bc-49c7-f995-438d68d576b3",
        "colab": {
          "base_uri": "https://localhost:8080/",
          "height": 255
        }
      },
      "source": [
        "raw_data.info()"
      ],
      "execution_count": null,
      "outputs": [
        {
          "output_type": "stream",
          "text": [
            "<class 'pandas.core.frame.DataFrame'>\n",
            "RangeIndex: 6303 entries, 0 to 6302\n",
            "Data columns (total 7 columns):\n",
            " #   Column  Non-Null Count  Dtype  \n",
            "---  ------  --------------  -----  \n",
            " 0   0       6303 non-null   float64\n",
            " 1   1       6303 non-null   float64\n",
            " 2   2       6303 non-null   float64\n",
            " 3   3       6303 non-null   float64\n",
            " 4   4       6303 non-null   float64\n",
            " 5   5       6303 non-null   float64\n",
            " 6   6       6303 non-null   float64\n",
            "dtypes: float64(7)\n",
            "memory usage: 344.8 KB\n"
          ],
          "name": "stdout"
        }
      ]
    },
    {
      "cell_type": "code",
      "metadata": {
        "id": "ySpY5GA1Wb08",
        "outputId": "62bea9b5-ab46-47ef-b404-8d02c5593958",
        "colab": {
          "base_uri": "https://localhost:8080/",
          "height": 297
        }
      },
      "source": [
        "raw_data.describe()"
      ],
      "execution_count": null,
      "outputs": [
        {
          "output_type": "execute_result",
          "data": {
            "text/html": [
              "<div>\n",
              "<style scoped>\n",
              "    .dataframe tbody tr th:only-of-type {\n",
              "        vertical-align: middle;\n",
              "    }\n",
              "\n",
              "    .dataframe tbody tr th {\n",
              "        vertical-align: top;\n",
              "    }\n",
              "\n",
              "    .dataframe thead th {\n",
              "        text-align: right;\n",
              "    }\n",
              "</style>\n",
              "<table border=\"1\" class=\"dataframe\">\n",
              "  <thead>\n",
              "    <tr style=\"text-align: right;\">\n",
              "      <th></th>\n",
              "      <th>0</th>\n",
              "      <th>1</th>\n",
              "      <th>2</th>\n",
              "      <th>3</th>\n",
              "      <th>4</th>\n",
              "      <th>5</th>\n",
              "      <th>6</th>\n",
              "    </tr>\n",
              "  </thead>\n",
              "  <tbody>\n",
              "    <tr>\n",
              "      <th>count</th>\n",
              "      <td>6303.000000</td>\n",
              "      <td>6303.000000</td>\n",
              "      <td>6303.000000</td>\n",
              "      <td>6303.000000</td>\n",
              "      <td>6303.000000</td>\n",
              "      <td>6303.000000</td>\n",
              "      <td>6303.000000</td>\n",
              "    </tr>\n",
              "    <tr>\n",
              "      <th>mean</th>\n",
              "      <td>0.806854</td>\n",
              "      <td>0.933683</td>\n",
              "      <td>0.895446</td>\n",
              "      <td>0.774870</td>\n",
              "      <td>0.847771</td>\n",
              "      <td>0.253594</td>\n",
              "      <td>0.903115</td>\n",
              "    </tr>\n",
              "    <tr>\n",
              "      <th>std</th>\n",
              "      <td>0.228869</td>\n",
              "      <td>0.159477</td>\n",
              "      <td>0.176824</td>\n",
              "      <td>0.284843</td>\n",
              "      <td>0.295606</td>\n",
              "      <td>0.243486</td>\n",
              "      <td>0.202445</td>\n",
              "    </tr>\n",
              "    <tr>\n",
              "      <th>min</th>\n",
              "      <td>0.000000</td>\n",
              "      <td>0.000000</td>\n",
              "      <td>0.000000</td>\n",
              "      <td>0.000000</td>\n",
              "      <td>0.000000</td>\n",
              "      <td>0.000000</td>\n",
              "      <td>0.000000</td>\n",
              "    </tr>\n",
              "    <tr>\n",
              "      <th>25%</th>\n",
              "      <td>0.600000</td>\n",
              "      <td>1.000000</td>\n",
              "      <td>0.833330</td>\n",
              "      <td>0.666670</td>\n",
              "      <td>1.000000</td>\n",
              "      <td>0.000000</td>\n",
              "      <td>0.833330</td>\n",
              "    </tr>\n",
              "    <tr>\n",
              "      <th>50%</th>\n",
              "      <td>0.800000</td>\n",
              "      <td>1.000000</td>\n",
              "      <td>1.000000</td>\n",
              "      <td>1.000000</td>\n",
              "      <td>1.000000</td>\n",
              "      <td>0.200000</td>\n",
              "      <td>1.000000</td>\n",
              "    </tr>\n",
              "    <tr>\n",
              "      <th>75%</th>\n",
              "      <td>1.000000</td>\n",
              "      <td>1.000000</td>\n",
              "      <td>1.000000</td>\n",
              "      <td>1.000000</td>\n",
              "      <td>1.000000</td>\n",
              "      <td>0.400000</td>\n",
              "      <td>1.000000</td>\n",
              "    </tr>\n",
              "    <tr>\n",
              "      <th>max</th>\n",
              "      <td>1.000000</td>\n",
              "      <td>1.000000</td>\n",
              "      <td>1.000000</td>\n",
              "      <td>1.000000</td>\n",
              "      <td>1.000000</td>\n",
              "      <td>1.000000</td>\n",
              "      <td>1.000000</td>\n",
              "    </tr>\n",
              "  </tbody>\n",
              "</table>\n",
              "</div>"
            ],
            "text/plain": [
              "                 0            1  ...            5            6\n",
              "count  6303.000000  6303.000000  ...  6303.000000  6303.000000\n",
              "mean      0.806854     0.933683  ...     0.253594     0.903115\n",
              "std       0.228869     0.159477  ...     0.243486     0.202445\n",
              "min       0.000000     0.000000  ...     0.000000     0.000000\n",
              "25%       0.600000     1.000000  ...     0.000000     0.833330\n",
              "50%       0.800000     1.000000  ...     0.200000     1.000000\n",
              "75%       1.000000     1.000000  ...     0.400000     1.000000\n",
              "max       1.000000     1.000000  ...     1.000000     1.000000\n",
              "\n",
              "[8 rows x 7 columns]"
            ]
          },
          "metadata": {
            "tags": []
          },
          "execution_count": 7
        }
      ]
    },
    {
      "cell_type": "code",
      "metadata": {
        "id": "MHQGsMt3XUi8"
      },
      "source": [
        "raw_data_unique=raw_data.drop_duplicates(ignore_index=True)"
      ],
      "execution_count": null,
      "outputs": []
    },
    {
      "cell_type": "code",
      "metadata": {
        "id": "-CHvNFmWXa1u",
        "outputId": "3353a5c7-4fd4-4fdc-9e15-10d7cc48d528",
        "colab": {
          "base_uri": "https://localhost:8080/",
          "height": 419
        }
      },
      "source": [
        "raw_data_unique"
      ],
      "execution_count": null,
      "outputs": [
        {
          "output_type": "execute_result",
          "data": {
            "text/html": [
              "<div>\n",
              "<style scoped>\n",
              "    .dataframe tbody tr th:only-of-type {\n",
              "        vertical-align: middle;\n",
              "    }\n",
              "\n",
              "    .dataframe tbody tr th {\n",
              "        vertical-align: top;\n",
              "    }\n",
              "\n",
              "    .dataframe thead th {\n",
              "        text-align: right;\n",
              "    }\n",
              "</style>\n",
              "<table border=\"1\" class=\"dataframe\">\n",
              "  <thead>\n",
              "    <tr style=\"text-align: right;\">\n",
              "      <th></th>\n",
              "      <th>0</th>\n",
              "      <th>1</th>\n",
              "      <th>2</th>\n",
              "      <th>3</th>\n",
              "      <th>4</th>\n",
              "      <th>5</th>\n",
              "      <th>6</th>\n",
              "    </tr>\n",
              "  </thead>\n",
              "  <tbody>\n",
              "    <tr>\n",
              "      <th>0</th>\n",
              "      <td>0.8</td>\n",
              "      <td>1.00000</td>\n",
              "      <td>1.00000</td>\n",
              "      <td>0.00000</td>\n",
              "      <td>1.0</td>\n",
              "      <td>0.0</td>\n",
              "      <td>0.50000</td>\n",
              "    </tr>\n",
              "    <tr>\n",
              "      <th>1</th>\n",
              "      <td>0.2</td>\n",
              "      <td>1.00000</td>\n",
              "      <td>0.66667</td>\n",
              "      <td>0.66667</td>\n",
              "      <td>0.5</td>\n",
              "      <td>0.0</td>\n",
              "      <td>0.33333</td>\n",
              "    </tr>\n",
              "    <tr>\n",
              "      <th>2</th>\n",
              "      <td>1.0</td>\n",
              "      <td>0.66667</td>\n",
              "      <td>1.00000</td>\n",
              "      <td>0.66667</td>\n",
              "      <td>0.0</td>\n",
              "      <td>0.4</td>\n",
              "      <td>1.00000</td>\n",
              "    </tr>\n",
              "    <tr>\n",
              "      <th>3</th>\n",
              "      <td>0.2</td>\n",
              "      <td>1.00000</td>\n",
              "      <td>0.33333</td>\n",
              "      <td>0.66667</td>\n",
              "      <td>0.5</td>\n",
              "      <td>0.8</td>\n",
              "      <td>0.50000</td>\n",
              "    </tr>\n",
              "    <tr>\n",
              "      <th>4</th>\n",
              "      <td>0.8</td>\n",
              "      <td>1.00000</td>\n",
              "      <td>1.00000</td>\n",
              "      <td>1.00000</td>\n",
              "      <td>1.0</td>\n",
              "      <td>0.2</td>\n",
              "      <td>1.00000</td>\n",
              "    </tr>\n",
              "    <tr>\n",
              "      <th>...</th>\n",
              "      <td>...</td>\n",
              "      <td>...</td>\n",
              "      <td>...</td>\n",
              "      <td>...</td>\n",
              "      <td>...</td>\n",
              "      <td>...</td>\n",
              "      <td>...</td>\n",
              "    </tr>\n",
              "    <tr>\n",
              "      <th>1932</th>\n",
              "      <td>0.6</td>\n",
              "      <td>0.66667</td>\n",
              "      <td>0.16667</td>\n",
              "      <td>0.00000</td>\n",
              "      <td>0.0</td>\n",
              "      <td>0.6</td>\n",
              "      <td>0.50000</td>\n",
              "    </tr>\n",
              "    <tr>\n",
              "      <th>1933</th>\n",
              "      <td>0.2</td>\n",
              "      <td>0.33333</td>\n",
              "      <td>1.00000</td>\n",
              "      <td>1.00000</td>\n",
              "      <td>1.0</td>\n",
              "      <td>0.4</td>\n",
              "      <td>0.16667</td>\n",
              "    </tr>\n",
              "    <tr>\n",
              "      <th>1934</th>\n",
              "      <td>0.8</td>\n",
              "      <td>0.33333</td>\n",
              "      <td>0.66667</td>\n",
              "      <td>0.66667</td>\n",
              "      <td>0.5</td>\n",
              "      <td>0.0</td>\n",
              "      <td>1.00000</td>\n",
              "    </tr>\n",
              "    <tr>\n",
              "      <th>1935</th>\n",
              "      <td>0.8</td>\n",
              "      <td>0.66667</td>\n",
              "      <td>0.66667</td>\n",
              "      <td>0.66667</td>\n",
              "      <td>0.5</td>\n",
              "      <td>0.2</td>\n",
              "      <td>0.33333</td>\n",
              "    </tr>\n",
              "    <tr>\n",
              "      <th>1936</th>\n",
              "      <td>0.8</td>\n",
              "      <td>1.00000</td>\n",
              "      <td>1.00000</td>\n",
              "      <td>1.00000</td>\n",
              "      <td>1.0</td>\n",
              "      <td>0.4</td>\n",
              "      <td>0.50000</td>\n",
              "    </tr>\n",
              "  </tbody>\n",
              "</table>\n",
              "<p>1937 rows × 7 columns</p>\n",
              "</div>"
            ],
            "text/plain": [
              "        0        1        2        3    4    5        6\n",
              "0     0.8  1.00000  1.00000  0.00000  1.0  0.0  0.50000\n",
              "1     0.2  1.00000  0.66667  0.66667  0.5  0.0  0.33333\n",
              "2     1.0  0.66667  1.00000  0.66667  0.0  0.4  1.00000\n",
              "3     0.2  1.00000  0.33333  0.66667  0.5  0.8  0.50000\n",
              "4     0.8  1.00000  1.00000  1.00000  1.0  0.2  1.00000\n",
              "...   ...      ...      ...      ...  ...  ...      ...\n",
              "1932  0.6  0.66667  0.16667  0.00000  0.0  0.6  0.50000\n",
              "1933  0.2  0.33333  1.00000  1.00000  1.0  0.4  0.16667\n",
              "1934  0.8  0.33333  0.66667  0.66667  0.5  0.0  1.00000\n",
              "1935  0.8  0.66667  0.66667  0.66667  0.5  0.2  0.33333\n",
              "1936  0.8  1.00000  1.00000  1.00000  1.0  0.4  0.50000\n",
              "\n",
              "[1937 rows x 7 columns]"
            ]
          },
          "metadata": {
            "tags": []
          },
          "execution_count": 9
        }
      ]
    },
    {
      "cell_type": "markdown",
      "metadata": {
        "id": "gMjFAf8FIMB-"
      },
      "source": [
        "# Phate on Unique Data"
      ]
    },
    {
      "cell_type": "code",
      "metadata": {
        "id": "mZiDFFq6X77n",
        "outputId": "16b80419-6833-4cb5-b2d1-9f03bf6ed72b",
        "colab": {
          "base_uri": "https://localhost:8080/",
          "height": 255
        }
      },
      "source": [
        "PhateOp=phate.PHATE(knn=20, decay=None, t='auto', mds_solver='smacof')\n",
        "PhateData = PhateOp.fit_transform(raw_data_unique)"
      ],
      "execution_count": null,
      "outputs": [
        {
          "output_type": "stream",
          "text": [
            "Calculating PHATE...\n",
            "  Running PHATE on 1937 observations and 7 variables.\n",
            "  Calculating graph and diffusion operator...\n",
            "    Calculating KNN search...\n",
            "    Calculated KNN search in 0.09 seconds.\n",
            "  Calculated graph and diffusion operator in 0.11 seconds.\n",
            "  Calculating optimal t...\n",
            "    Automatically selected t = 16\n",
            "  Calculated optimal t in 4.68 seconds.\n",
            "  Calculating diffusion potential...\n",
            "  Calculated diffusion potential in 1.84 seconds.\n",
            "  Calculating metric MDS...\n",
            "  Calculated metric MDS in 37.48 seconds.\n",
            "Calculated PHATE in 44.17 seconds.\n"
          ],
          "name": "stdout"
        }
      ]
    },
    {
      "cell_type": "markdown",
      "metadata": {
        "id": "pP1qlT--MLK7"
      },
      "source": [
        "## K-mean clustering"
      ]
    },
    {
      "cell_type": "code",
      "metadata": {
        "id": "zxoxeujCLQ76"
      },
      "source": [
        "KMeans_clustered=k_means(data=raw_data_unique.copy(),k=7,iter=1000)"
      ],
      "execution_count": null,
      "outputs": []
    },
    {
      "cell_type": "code",
      "metadata": {
        "id": "c8LETfMzMjaC"
      },
      "source": [
        "cluster=KMeans_clustered.cluster_return()"
      ],
      "execution_count": null,
      "outputs": []
    },
    {
      "cell_type": "code",
      "metadata": {
        "id": "zttfXRsUMkkx",
        "outputId": "67a246d3-2acc-482d-9b38-10cada034378",
        "colab": {
          "base_uri": "https://localhost:8080/",
          "height": 780
        }
      },
      "source": [
        "phate.plot.scatter2d(PhateData,c=cluster,cmap='Blues',figsize=(10,10))"
      ],
      "execution_count": null,
      "outputs": [
        {
          "output_type": "stream",
          "text": [
            "/usr/local/lib/python3.6/dist-packages/ipykernel_launcher.py:1: DeprecationWarning: Call to deprecated function (or staticmethod) scatter2d. (Use scprep.plot.scatter2d instead) -- Deprecated since version 1.0.0.\n",
            "  \"\"\"Entry point for launching an IPython kernel.\n"
          ],
          "name": "stderr"
        },
        {
          "output_type": "execute_result",
          "data": {
            "text/plain": [
              "<matplotlib.axes._subplots.AxesSubplot at 0x7fb56a312d30>"
            ]
          },
          "metadata": {
            "tags": []
          },
          "execution_count": 13
        },
        {
          "output_type": "display_data",
          "data": {
            "image/png": "[encoded data removed]",
            "text/plain": [
              "<Figure size 720x720 with 1 Axes>"
            ]
          },
          "metadata": {
            "tags": [],
            "needs_background": "light"
          }
        }
      ]
    },
    {
      "cell_type": "code",
      "metadata": {
        "id": "lOctB6ITcC3V",
        "outputId": "0c400949-b277-4008-ecc0-f32583aff6f9",
        "colab": {
          "base_uri": "https://localhost:8080/",
          "height": 439
        }
      },
      "source": [
        "KMeans_clustered.data"
      ],
      "execution_count": null,
      "outputs": [
        {
          "output_type": "execute_result",
          "data": {
            "text/html": [
              "<div>\n",
              "<style scoped>\n",
              "    .dataframe tbody tr th:only-of-type {\n",
              "        vertical-align: middle;\n",
              "    }\n",
              "\n",
              "    .dataframe tbody tr th {\n",
              "        vertical-align: top;\n",
              "    }\n",
              "\n",
              "    .dataframe thead th {\n",
              "        text-align: right;\n",
              "    }\n",
              "</style>\n",
              "<table border=\"1\" class=\"dataframe\">\n",
              "  <thead>\n",
              "    <tr style=\"text-align: right;\">\n",
              "      <th></th>\n",
              "      <th>0</th>\n",
              "      <th>1</th>\n",
              "      <th>2</th>\n",
              "      <th>3</th>\n",
              "      <th>4</th>\n",
              "      <th>5</th>\n",
              "      <th>6</th>\n",
              "      <th>sum_score</th>\n",
              "      <th>distance_from_1</th>\n",
              "      <th>distance_from_2</th>\n",
              "      <th>distance_from_3</th>\n",
              "      <th>distance_from_4</th>\n",
              "      <th>distance_from_5</th>\n",
              "      <th>distance_from_6</th>\n",
              "      <th>distance_from_7</th>\n",
              "      <th>cluster</th>\n",
              "    </tr>\n",
              "  </thead>\n",
              "  <tbody>\n",
              "    <tr>\n",
              "      <th>0</th>\n",
              "      <td>0.8</td>\n",
              "      <td>1.00000</td>\n",
              "      <td>1.00000</td>\n",
              "      <td>0.00000</td>\n",
              "      <td>1.0</td>\n",
              "      <td>0.0</td>\n",
              "      <td>0.50000</td>\n",
              "      <td>18.00000</td>\n",
              "      <td>0.974567</td>\n",
              "      <td>0.399351</td>\n",
              "      <td>0.892293</td>\n",
              "      <td>1.351877</td>\n",
              "      <td>1.785951</td>\n",
              "      <td>1.462091</td>\n",
              "      <td>0.938182</td>\n",
              "      <td>2</td>\n",
              "    </tr>\n",
              "    <tr>\n",
              "      <th>1</th>\n",
              "      <td>0.2</td>\n",
              "      <td>1.00000</td>\n",
              "      <td>0.66667</td>\n",
              "      <td>0.66667</td>\n",
              "      <td>0.5</td>\n",
              "      <td>0.0</td>\n",
              "      <td>0.33333</td>\n",
              "      <td>13.00001</td>\n",
              "      <td>0.395506</td>\n",
              "      <td>1.001488</td>\n",
              "      <td>0.841083</td>\n",
              "      <td>1.300890</td>\n",
              "      <td>0.769545</td>\n",
              "      <td>0.844176</td>\n",
              "      <td>0.336375</td>\n",
              "      <td>7</td>\n",
              "    </tr>\n",
              "    <tr>\n",
              "      <th>2</th>\n",
              "      <td>1.0</td>\n",
              "      <td>0.66667</td>\n",
              "      <td>1.00000</td>\n",
              "      <td>0.66667</td>\n",
              "      <td>0.0</td>\n",
              "      <td>0.4</td>\n",
              "      <td>1.00000</td>\n",
              "      <td>23.00002</td>\n",
              "      <td>0.702723</td>\n",
              "      <td>1.033183</td>\n",
              "      <td>1.258399</td>\n",
              "      <td>1.166372</td>\n",
              "      <td>1.388142</td>\n",
              "      <td>0.232473</td>\n",
              "      <td>1.755102</td>\n",
              "      <td>6</td>\n",
              "    </tr>\n",
              "    <tr>\n",
              "      <th>3</th>\n",
              "      <td>0.2</td>\n",
              "      <td>1.00000</td>\n",
              "      <td>0.33333</td>\n",
              "      <td>0.66667</td>\n",
              "      <td>0.5</td>\n",
              "      <td>0.8</td>\n",
              "      <td>0.50000</td>\n",
              "      <td>15.99999</td>\n",
              "      <td>0.817697</td>\n",
              "      <td>1.133261</td>\n",
              "      <td>1.240607</td>\n",
              "      <td>0.875993</td>\n",
              "      <td>0.883755</td>\n",
              "      <td>1.026933</td>\n",
              "      <td>0.466578</td>\n",
              "      <td>7</td>\n",
              "    </tr>\n",
              "    <tr>\n",
              "      <th>4</th>\n",
              "      <td>0.8</td>\n",
              "      <td>1.00000</td>\n",
              "      <td>1.00000</td>\n",
              "      <td>1.00000</td>\n",
              "      <td>1.0</td>\n",
              "      <td>0.2</td>\n",
              "      <td>1.00000</td>\n",
              "      <td>25.00000</td>\n",
              "      <td>0.792294</td>\n",
              "      <td>0.719243</td>\n",
              "      <td>0.121296</td>\n",
              "      <td>0.400363</td>\n",
              "      <td>2.663142</td>\n",
              "      <td>0.663036</td>\n",
              "      <td>1.498918</td>\n",
              "      <td>3</td>\n",
              "    </tr>\n",
              "    <tr>\n",
              "      <th>...</th>\n",
              "      <td>...</td>\n",
              "      <td>...</td>\n",
              "      <td>...</td>\n",
              "      <td>...</td>\n",
              "      <td>...</td>\n",
              "      <td>...</td>\n",
              "      <td>...</td>\n",
              "      <td>...</td>\n",
              "      <td>...</td>\n",
              "      <td>...</td>\n",
              "      <td>...</td>\n",
              "      <td>...</td>\n",
              "      <td>...</td>\n",
              "      <td>...</td>\n",
              "      <td>...</td>\n",
              "      <td>...</td>\n",
              "    </tr>\n",
              "    <tr>\n",
              "      <th>1932</th>\n",
              "      <td>0.6</td>\n",
              "      <td>0.66667</td>\n",
              "      <td>0.16667</td>\n",
              "      <td>0.00000</td>\n",
              "      <td>0.0</td>\n",
              "      <td>0.6</td>\n",
              "      <td>0.50000</td>\n",
              "      <td>12.00003</td>\n",
              "      <td>1.338154</td>\n",
              "      <td>1.409760</td>\n",
              "      <td>2.440316</td>\n",
              "      <td>2.177228</td>\n",
              "      <td>0.290881</td>\n",
              "      <td>1.431618</td>\n",
              "      <td>0.878072</td>\n",
              "      <td>5</td>\n",
              "    </tr>\n",
              "    <tr>\n",
              "      <th>1933</th>\n",
              "      <td>0.2</td>\n",
              "      <td>0.33333</td>\n",
              "      <td>1.00000</td>\n",
              "      <td>1.00000</td>\n",
              "      <td>1.0</td>\n",
              "      <td>0.4</td>\n",
              "      <td>0.16667</td>\n",
              "      <td>16.00001</td>\n",
              "      <td>1.001563</td>\n",
              "      <td>1.697306</td>\n",
              "      <td>1.024481</td>\n",
              "      <td>1.150830</td>\n",
              "      <td>2.082860</td>\n",
              "      <td>1.763377</td>\n",
              "      <td>1.112773</td>\n",
              "      <td>1</td>\n",
              "    </tr>\n",
              "    <tr>\n",
              "      <th>1934</th>\n",
              "      <td>0.8</td>\n",
              "      <td>0.33333</td>\n",
              "      <td>0.66667</td>\n",
              "      <td>0.66667</td>\n",
              "      <td>0.5</td>\n",
              "      <td>0.0</td>\n",
              "      <td>1.00000</td>\n",
              "      <td>18.00002</td>\n",
              "      <td>0.744166</td>\n",
              "      <td>0.780457</td>\n",
              "      <td>0.676641</td>\n",
              "      <td>1.109637</td>\n",
              "      <td>1.240571</td>\n",
              "      <td>0.501187</td>\n",
              "      <td>1.076367</td>\n",
              "      <td>6</td>\n",
              "    </tr>\n",
              "    <tr>\n",
              "      <th>1935</th>\n",
              "      <td>0.8</td>\n",
              "      <td>0.66667</td>\n",
              "      <td>0.66667</td>\n",
              "      <td>0.66667</td>\n",
              "      <td>0.5</td>\n",
              "      <td>0.2</td>\n",
              "      <td>0.33333</td>\n",
              "      <td>16.00002</td>\n",
              "      <td>0.100236</td>\n",
              "      <td>0.676604</td>\n",
              "      <td>0.581236</td>\n",
              "      <td>0.793413</td>\n",
              "      <td>0.768994</td>\n",
              "      <td>0.508098</td>\n",
              "      <td>0.480261</td>\n",
              "      <td>1</td>\n",
              "    </tr>\n",
              "    <tr>\n",
              "      <th>1936</th>\n",
              "      <td>0.8</td>\n",
              "      <td>1.00000</td>\n",
              "      <td>1.00000</td>\n",
              "      <td>1.00000</td>\n",
              "      <td>1.0</td>\n",
              "      <td>0.4</td>\n",
              "      <td>0.50000</td>\n",
              "      <td>23.00000</td>\n",
              "      <td>0.464054</td>\n",
              "      <td>0.803546</td>\n",
              "      <td>0.215649</td>\n",
              "      <td>0.282562</td>\n",
              "      <td>2.338196</td>\n",
              "      <td>0.827520</td>\n",
              "      <td>1.167858</td>\n",
              "      <td>3</td>\n",
              "    </tr>\n",
              "  </tbody>\n",
              "</table>\n",
              "<p>1937 rows × 16 columns</p>\n",
              "</div>"
            ],
            "text/plain": [
              "        0        1        2  ...  distance_from_6  distance_from_7  cluster\n",
              "0     0.8  1.00000  1.00000  ...         1.462091         0.938182        2\n",
              "1     0.2  1.00000  0.66667  ...         0.844176         0.336375        7\n",
              "2     1.0  0.66667  1.00000  ...         0.232473         1.755102        6\n",
              "3     0.2  1.00000  0.33333  ...         1.026933         0.466578        7\n",
              "4     0.8  1.00000  1.00000  ...         0.663036         1.498918        3\n",
              "...   ...      ...      ...  ...              ...              ...      ...\n",
              "1932  0.6  0.66667  0.16667  ...         1.431618         0.878072        5\n",
              "1933  0.2  0.33333  1.00000  ...         1.763377         1.112773        1\n",
              "1934  0.8  0.33333  0.66667  ...         0.501187         1.076367        6\n",
              "1935  0.8  0.66667  0.66667  ...         0.508098         0.480261        1\n",
              "1936  0.8  1.00000  1.00000  ...         0.827520         1.167858        3\n",
              "\n",
              "[1937 rows x 16 columns]"
            ]
          },
          "metadata": {
            "tags": []
          },
          "execution_count": 14
        }
      ]
    },
    {
      "cell_type": "code",
      "metadata": {
        "id": "bARYf78DhMUn",
        "outputId": "c154aff4-c138-4de5-96be-1fa33ed5b178",
        "colab": {
          "base_uri": "https://localhost:8080/",
          "height": 317
        }
      },
      "source": [
        "KMeans_clustered.data.groupby('cluster').agg(np.mean)"
      ],
      "execution_count": null,
      "outputs": [
        {
          "output_type": "execute_result",
          "data": {
            "text/html": [
              "<div>\n",
              "<style scoped>\n",
              "    .dataframe tbody tr th:only-of-type {\n",
              "        vertical-align: middle;\n",
              "    }\n",
              "\n",
              "    .dataframe tbody tr th {\n",
              "        vertical-align: top;\n",
              "    }\n",
              "\n",
              "    .dataframe thead th {\n",
              "        text-align: right;\n",
              "    }\n",
              "</style>\n",
              "<table border=\"1\" class=\"dataframe\">\n",
              "  <thead>\n",
              "    <tr style=\"text-align: right;\">\n",
              "      <th></th>\n",
              "      <th>0</th>\n",
              "      <th>1</th>\n",
              "      <th>2</th>\n",
              "      <th>3</th>\n",
              "      <th>4</th>\n",
              "      <th>5</th>\n",
              "      <th>6</th>\n",
              "      <th>sum_score</th>\n",
              "      <th>distance_from_1</th>\n",
              "      <th>distance_from_2</th>\n",
              "      <th>distance_from_3</th>\n",
              "      <th>distance_from_4</th>\n",
              "      <th>distance_from_5</th>\n",
              "      <th>distance_from_6</th>\n",
              "      <th>distance_from_7</th>\n",
              "    </tr>\n",
              "    <tr>\n",
              "      <th>cluster</th>\n",
              "      <th></th>\n",
              "      <th></th>\n",
              "      <th></th>\n",
              "      <th></th>\n",
              "      <th></th>\n",
              "      <th></th>\n",
              "      <th></th>\n",
              "      <th></th>\n",
              "      <th></th>\n",
              "      <th></th>\n",
              "      <th></th>\n",
              "      <th></th>\n",
              "      <th></th>\n",
              "      <th></th>\n",
              "      <th></th>\n",
              "    </tr>\n",
              "  </thead>\n",
              "  <tbody>\n",
              "    <tr>\n",
              "      <th>1</th>\n",
              "      <td>0.695706</td>\n",
              "      <td>0.852762</td>\n",
              "      <td>0.852760</td>\n",
              "      <td>0.721882</td>\n",
              "      <td>0.441718</td>\n",
              "      <td>0.283436</td>\n",
              "      <td>0.415134</td>\n",
              "      <td>18.110438</td>\n",
              "      <td>0.335284</td>\n",
              "      <td>0.921200</td>\n",
              "      <td>0.819862</td>\n",
              "      <td>0.935886</td>\n",
              "      <td>1.182571</td>\n",
              "      <td>0.630612</td>\n",
              "      <td>0.876722</td>\n",
              "    </tr>\n",
              "    <tr>\n",
              "      <th>2</th>\n",
              "      <td>0.710649</td>\n",
              "      <td>0.883984</td>\n",
              "      <td>0.834632</td>\n",
              "      <td>0.232032</td>\n",
              "      <td>0.815584</td>\n",
              "      <td>0.364675</td>\n",
              "      <td>0.860173</td>\n",
              "      <td>20.524664</td>\n",
              "      <td>0.881518</td>\n",
              "      <td>0.295602</td>\n",
              "      <td>0.720403</td>\n",
              "      <td>0.794940</td>\n",
              "      <td>1.508323</td>\n",
              "      <td>0.893061</td>\n",
              "      <td>0.872562</td>\n",
              "    </tr>\n",
              "    <tr>\n",
              "      <th>3</th>\n",
              "      <td>0.695116</td>\n",
              "      <td>0.860327</td>\n",
              "      <td>0.837189</td>\n",
              "      <td>0.834620</td>\n",
              "      <td>1.000000</td>\n",
              "      <td>0.209254</td>\n",
              "      <td>0.808054</td>\n",
              "      <td>21.478151</td>\n",
              "      <td>0.708776</td>\n",
              "      <td>0.648999</td>\n",
              "      <td>0.224198</td>\n",
              "      <td>0.504808</td>\n",
              "      <td>2.115402</td>\n",
              "      <td>0.797598</td>\n",
              "      <td>1.051694</td>\n",
              "    </tr>\n",
              "    <tr>\n",
              "      <th>4</th>\n",
              "      <td>0.733603</td>\n",
              "      <td>0.871796</td>\n",
              "      <td>0.853576</td>\n",
              "      <td>0.821864</td>\n",
              "      <td>0.927126</td>\n",
              "      <td>0.731984</td>\n",
              "      <td>0.804993</td>\n",
              "      <td>24.214577</td>\n",
              "      <td>0.848146</td>\n",
              "      <td>0.746881</td>\n",
              "      <td>0.528154</td>\n",
              "      <td>0.247544</td>\n",
              "      <td>2.217667</td>\n",
              "      <td>0.871108</td>\n",
              "      <td>1.251206</td>\n",
              "    </tr>\n",
              "    <tr>\n",
              "      <th>5</th>\n",
              "      <td>0.307190</td>\n",
              "      <td>0.603487</td>\n",
              "      <td>0.427015</td>\n",
              "      <td>0.185185</td>\n",
              "      <td>0.035948</td>\n",
              "      <td>0.296732</td>\n",
              "      <td>0.423747</td>\n",
              "      <td>10.562092</td>\n",
              "      <td>1.299076</td>\n",
              "      <td>1.664510</td>\n",
              "      <td>2.342993</td>\n",
              "      <td>2.421913</td>\n",
              "      <td>0.451789</td>\n",
              "      <td>1.514533</td>\n",
              "      <td>0.930007</td>\n",
              "    </tr>\n",
              "    <tr>\n",
              "      <th>6</th>\n",
              "      <td>0.725926</td>\n",
              "      <td>0.869960</td>\n",
              "      <td>0.844032</td>\n",
              "      <td>0.767903</td>\n",
              "      <td>0.264198</td>\n",
              "      <td>0.323457</td>\n",
              "      <td>0.923868</td>\n",
              "      <td>21.296294</td>\n",
              "      <td>0.593526</td>\n",
              "      <td>0.895657</td>\n",
              "      <td>0.871598</td>\n",
              "      <td>0.921762</td>\n",
              "      <td>1.360942</td>\n",
              "      <td>0.298198</td>\n",
              "      <td>1.273084</td>\n",
              "    </tr>\n",
              "    <tr>\n",
              "      <th>7</th>\n",
              "      <td>0.284103</td>\n",
              "      <td>0.777779</td>\n",
              "      <td>0.444444</td>\n",
              "      <td>0.347008</td>\n",
              "      <td>0.684615</td>\n",
              "      <td>0.295385</td>\n",
              "      <td>0.417094</td>\n",
              "      <td>12.810259</td>\n",
              "      <td>0.947187</td>\n",
              "      <td>0.982709</td>\n",
              "      <td>1.233245</td>\n",
              "      <td>1.409411</td>\n",
              "      <td>0.883966</td>\n",
              "      <td>1.380636</td>\n",
              "      <td>0.405749</td>\n",
              "    </tr>\n",
              "  </tbody>\n",
              "</table>\n",
              "</div>"
            ],
            "text/plain": [
              "                0         1  ...  distance_from_6  distance_from_7\n",
              "cluster                      ...                                  \n",
              "1        0.695706  0.852762  ...         0.630612         0.876722\n",
              "2        0.710649  0.883984  ...         0.893061         0.872562\n",
              "3        0.695116  0.860327  ...         0.797598         1.051694\n",
              "4        0.733603  0.871796  ...         0.871108         1.251206\n",
              "5        0.307190  0.603487  ...         1.514533         0.930007\n",
              "6        0.725926  0.869960  ...         0.298198         1.273084\n",
              "7        0.284103  0.777779  ...         1.380636         0.405749\n",
              "\n",
              "[7 rows x 15 columns]"
            ]
          },
          "metadata": {
            "tags": []
          },
          "execution_count": 15
        }
      ]
    },
    {
      "cell_type": "code",
      "metadata": {
        "id": "tK52pSBiJxj2",
        "outputId": "921c3360-85fc-4dbc-a0a3-ea7236683918",
        "colab": {
          "base_uri": "https://localhost:8080/",
          "height": 297
        }
      },
      "source": [
        "KMeans_clustered.data.pivot_table(values='sum_score', index='cluster',aggfunc=np.mean).sort_values('sum_score')"
      ],
      "execution_count": null,
      "outputs": [
        {
          "output_type": "execute_result",
          "data": {
            "text/html": [
              "<div>\n",
              "<style scoped>\n",
              "    .dataframe tbody tr th:only-of-type {\n",
              "        vertical-align: middle;\n",
              "    }\n",
              "\n",
              "    .dataframe tbody tr th {\n",
              "        vertical-align: top;\n",
              "    }\n",
              "\n",
              "    .dataframe thead th {\n",
              "        text-align: right;\n",
              "    }\n",
              "</style>\n",
              "<table border=\"1\" class=\"dataframe\">\n",
              "  <thead>\n",
              "    <tr style=\"text-align: right;\">\n",
              "      <th></th>\n",
              "      <th>sum_score</th>\n",
              "    </tr>\n",
              "    <tr>\n",
              "      <th>cluster</th>\n",
              "      <th></th>\n",
              "    </tr>\n",
              "  </thead>\n",
              "  <tbody>\n",
              "    <tr>\n",
              "      <th>5</th>\n",
              "      <td>10.562092</td>\n",
              "    </tr>\n",
              "    <tr>\n",
              "      <th>7</th>\n",
              "      <td>12.810259</td>\n",
              "    </tr>\n",
              "    <tr>\n",
              "      <th>1</th>\n",
              "      <td>18.110438</td>\n",
              "    </tr>\n",
              "    <tr>\n",
              "      <th>2</th>\n",
              "      <td>20.524664</td>\n",
              "    </tr>\n",
              "    <tr>\n",
              "      <th>6</th>\n",
              "      <td>21.296294</td>\n",
              "    </tr>\n",
              "    <tr>\n",
              "      <th>3</th>\n",
              "      <td>21.478151</td>\n",
              "    </tr>\n",
              "    <tr>\n",
              "      <th>4</th>\n",
              "      <td>24.214577</td>\n",
              "    </tr>\n",
              "  </tbody>\n",
              "</table>\n",
              "</div>"
            ],
            "text/plain": [
              "         sum_score\n",
              "cluster           \n",
              "5        10.562092\n",
              "7        12.810259\n",
              "1        18.110438\n",
              "2        20.524664\n",
              "6        21.296294\n",
              "3        21.478151\n",
              "4        24.214577"
            ]
          },
          "metadata": {
            "tags": []
          },
          "execution_count": 16
        }
      ]
    },
    {
      "cell_type": "markdown",
      "metadata": {
        "id": "RZJOYkydtGWs"
      },
      "source": [
        "## Sampling and Convergence Proof"
      ]
    },
    {
      "cell_type": "code",
      "metadata": {
        "id": "lyfbZMfctSez"
      },
      "source": [
        "sample_unique=raw_data_unique.sample(frac=0.5, replace=False)"
      ],
      "execution_count": null,
      "outputs": []
    },
    {
      "cell_type": "code",
      "metadata": {
        "id": "Z7qfEHBFyd9a",
        "outputId": "18e01d35-0843-4ade-ad0b-ebbe04f4fe16",
        "colab": {
          "base_uri": "https://localhost:8080/",
          "height": 419
        }
      },
      "source": [
        "sample_unique.reset_index()"
      ],
      "execution_count": null,
      "outputs": [
        {
          "output_type": "execute_result",
          "data": {
            "text/html": [
              "<div>\n",
              "<style scoped>\n",
              "    .dataframe tbody tr th:only-of-type {\n",
              "        vertical-align: middle;\n",
              "    }\n",
              "\n",
              "    .dataframe tbody tr th {\n",
              "        vertical-align: top;\n",
              "    }\n",
              "\n",
              "    .dataframe thead th {\n",
              "        text-align: right;\n",
              "    }\n",
              "</style>\n",
              "<table border=\"1\" class=\"dataframe\">\n",
              "  <thead>\n",
              "    <tr style=\"text-align: right;\">\n",
              "      <th></th>\n",
              "      <th>index</th>\n",
              "      <th>0</th>\n",
              "      <th>1</th>\n",
              "      <th>2</th>\n",
              "      <th>3</th>\n",
              "      <th>4</th>\n",
              "      <th>5</th>\n",
              "      <th>6</th>\n",
              "    </tr>\n",
              "  </thead>\n",
              "  <tbody>\n",
              "    <tr>\n",
              "      <th>0</th>\n",
              "      <td>1753</td>\n",
              "      <td>0.4</td>\n",
              "      <td>1.00000</td>\n",
              "      <td>0.16667</td>\n",
              "      <td>0.00000</td>\n",
              "      <td>0.5</td>\n",
              "      <td>0.0</td>\n",
              "      <td>0.50000</td>\n",
              "    </tr>\n",
              "    <tr>\n",
              "      <th>1</th>\n",
              "      <td>1018</td>\n",
              "      <td>0.8</td>\n",
              "      <td>1.00000</td>\n",
              "      <td>0.50000</td>\n",
              "      <td>1.00000</td>\n",
              "      <td>1.0</td>\n",
              "      <td>0.4</td>\n",
              "      <td>1.00000</td>\n",
              "    </tr>\n",
              "    <tr>\n",
              "      <th>2</th>\n",
              "      <td>894</td>\n",
              "      <td>0.8</td>\n",
              "      <td>1.00000</td>\n",
              "      <td>0.50000</td>\n",
              "      <td>0.33333</td>\n",
              "      <td>1.0</td>\n",
              "      <td>0.2</td>\n",
              "      <td>1.00000</td>\n",
              "    </tr>\n",
              "    <tr>\n",
              "      <th>3</th>\n",
              "      <td>964</td>\n",
              "      <td>0.4</td>\n",
              "      <td>1.00000</td>\n",
              "      <td>0.66667</td>\n",
              "      <td>0.66667</td>\n",
              "      <td>1.0</td>\n",
              "      <td>0.4</td>\n",
              "      <td>0.83333</td>\n",
              "    </tr>\n",
              "    <tr>\n",
              "      <th>4</th>\n",
              "      <td>641</td>\n",
              "      <td>0.8</td>\n",
              "      <td>1.00000</td>\n",
              "      <td>0.66667</td>\n",
              "      <td>1.00000</td>\n",
              "      <td>1.0</td>\n",
              "      <td>0.8</td>\n",
              "      <td>1.00000</td>\n",
              "    </tr>\n",
              "    <tr>\n",
              "      <th>...</th>\n",
              "      <td>...</td>\n",
              "      <td>...</td>\n",
              "      <td>...</td>\n",
              "      <td>...</td>\n",
              "      <td>...</td>\n",
              "      <td>...</td>\n",
              "      <td>...</td>\n",
              "      <td>...</td>\n",
              "    </tr>\n",
              "    <tr>\n",
              "      <th>963</th>\n",
              "      <td>1641</td>\n",
              "      <td>0.6</td>\n",
              "      <td>0.33333</td>\n",
              "      <td>0.83333</td>\n",
              "      <td>0.66667</td>\n",
              "      <td>0.5</td>\n",
              "      <td>0.6</td>\n",
              "      <td>1.00000</td>\n",
              "    </tr>\n",
              "    <tr>\n",
              "      <th>964</th>\n",
              "      <td>182</td>\n",
              "      <td>1.0</td>\n",
              "      <td>0.00000</td>\n",
              "      <td>1.00000</td>\n",
              "      <td>0.66667</td>\n",
              "      <td>0.5</td>\n",
              "      <td>0.2</td>\n",
              "      <td>1.00000</td>\n",
              "    </tr>\n",
              "    <tr>\n",
              "      <th>965</th>\n",
              "      <td>1187</td>\n",
              "      <td>0.6</td>\n",
              "      <td>0.66667</td>\n",
              "      <td>1.00000</td>\n",
              "      <td>0.66667</td>\n",
              "      <td>0.5</td>\n",
              "      <td>0.4</td>\n",
              "      <td>0.16667</td>\n",
              "    </tr>\n",
              "    <tr>\n",
              "      <th>966</th>\n",
              "      <td>1467</td>\n",
              "      <td>0.6</td>\n",
              "      <td>1.00000</td>\n",
              "      <td>0.33333</td>\n",
              "      <td>1.00000</td>\n",
              "      <td>1.0</td>\n",
              "      <td>0.0</td>\n",
              "      <td>1.00000</td>\n",
              "    </tr>\n",
              "    <tr>\n",
              "      <th>967</th>\n",
              "      <td>115</td>\n",
              "      <td>1.0</td>\n",
              "      <td>1.00000</td>\n",
              "      <td>0.83333</td>\n",
              "      <td>0.33333</td>\n",
              "      <td>0.0</td>\n",
              "      <td>0.2</td>\n",
              "      <td>1.00000</td>\n",
              "    </tr>\n",
              "  </tbody>\n",
              "</table>\n",
              "<p>968 rows × 8 columns</p>\n",
              "</div>"
            ],
            "text/plain": [
              "     index    0        1        2        3    4    5        6\n",
              "0     1753  0.4  1.00000  0.16667  0.00000  0.5  0.0  0.50000\n",
              "1     1018  0.8  1.00000  0.50000  1.00000  1.0  0.4  1.00000\n",
              "2      894  0.8  1.00000  0.50000  0.33333  1.0  0.2  1.00000\n",
              "3      964  0.4  1.00000  0.66667  0.66667  1.0  0.4  0.83333\n",
              "4      641  0.8  1.00000  0.66667  1.00000  1.0  0.8  1.00000\n",
              "..     ...  ...      ...      ...      ...  ...  ...      ...\n",
              "963   1641  0.6  0.33333  0.83333  0.66667  0.5  0.6  1.00000\n",
              "964    182  1.0  0.00000  1.00000  0.66667  0.5  0.2  1.00000\n",
              "965   1187  0.6  0.66667  1.00000  0.66667  0.5  0.4  0.16667\n",
              "966   1467  0.6  1.00000  0.33333  1.00000  1.0  0.0  1.00000\n",
              "967    115  1.0  1.00000  0.83333  0.33333  0.0  0.2  1.00000\n",
              "\n",
              "[968 rows x 8 columns]"
            ]
          },
          "metadata": {
            "tags": []
          },
          "execution_count": 18
        }
      ]
    },
    {
      "cell_type": "code",
      "metadata": {
        "id": "yhOL-rfUy5Zt",
        "outputId": "b449b351-ce66-4af2-f211-513006a90978",
        "colab": {
          "base_uri": "https://localhost:8080/",
          "height": 255
        }
      },
      "source": [
        "PhateOp=phate.PHATE(knn=50, decay=None, t='auto', mds_solver='smacof')\n",
        "PhateData = PhateOp.fit_transform(sample_unique)"
      ],
      "execution_count": null,
      "outputs": [
        {
          "output_type": "stream",
          "text": [
            "Calculating PHATE...\n",
            "  Running PHATE on 968 observations and 7 variables.\n",
            "  Calculating graph and diffusion operator...\n",
            "    Calculating KNN search...\n",
            "    Calculated KNN search in 0.04 seconds.\n",
            "  Calculated graph and diffusion operator in 0.05 seconds.\n",
            "  Calculating optimal t...\n",
            "    Automatically selected t = 16\n",
            "  Calculated optimal t in 0.70 seconds.\n",
            "  Calculating diffusion potential...\n",
            "  Calculated diffusion potential in 0.25 seconds.\n",
            "  Calculating metric MDS...\n",
            "  Calculated metric MDS in 12.27 seconds.\n",
            "Calculated PHATE in 13.30 seconds.\n"
          ],
          "name": "stdout"
        }
      ]
    },
    {
      "cell_type": "code",
      "metadata": {
        "id": "ZaNSrBCb0pJ3"
      },
      "source": [
        "KMeans_clustered.data=sample_unique.copy()\n",
        "cluster=KMeans_clustered.cluster_return()"
      ],
      "execution_count": null,
      "outputs": []
    },
    {
      "cell_type": "code",
      "metadata": {
        "id": "X7xT5WJ80bye",
        "outputId": "2e85bff9-8cab-4246-a2fa-3984c251c090",
        "colab": {
          "base_uri": "https://localhost:8080/",
          "height": 780
        }
      },
      "source": [
        "phate.plot.scatter2d(PhateData,c=cluster,cmap='Blues',figsize=(10,10))"
      ],
      "execution_count": null,
      "outputs": [
        {
          "output_type": "stream",
          "text": [
            "/usr/local/lib/python3.6/dist-packages/ipykernel_launcher.py:1: DeprecationWarning: Call to deprecated function (or staticmethod) scatter2d. (Use scprep.plot.scatter2d instead) -- Deprecated since version 1.0.0.\n",
            "  \"\"\"Entry point for launching an IPython kernel.\n"
          ],
          "name": "stderr"
        },
        {
          "output_type": "execute_result",
          "data": {
            "text/plain": [
              "<matplotlib.axes._subplots.AxesSubplot at 0x7fb56a36b588>"
            ]
          },
          "metadata": {
            "tags": []
          },
          "execution_count": 21
        },
        {
          "output_type": "display_data",
          "data": {
            "image/png": "[encoded data removed]",
            "text/plain": [
              "<Figure size 720x720 with 1 Axes>"
            ]
          },
          "metadata": {
            "tags": [],
            "needs_background": "light"
          }
        }
      ]
    },
    {
      "cell_type": "markdown",
      "metadata": {
        "id": "R0a_kBBe2kTF"
      },
      "source": [
        "# Phate on Uniform MoCA"
      ]
    },
    {
      "cell_type": "markdown",
      "metadata": {
        "id": "Qoz3dP5treU8"
      },
      "source": [
        "## Generation of uniform MoCA score using list comprehension"
      ]
    },
    {
      "cell_type": "code",
      "metadata": {
        "id": "2gifOyw42y1O"
      },
      "source": [
        "possible_score=[[x0/5,x1/3,x2/6,x3/3,x4/2,x5/5,x6/6] for x0 in range(6) for x1 in range(4) for x2 in range(7) for x3 in range(4) for x4 in range(3) for x5 in range(6) for x6 in range(7)]\n",
        "np_possible_score=np.array(possible_score)\n",
        "np_possible_score.reshape(84672,7)\n",
        "cluster=np_possible_score.sum(axis=1)"
      ],
      "execution_count": null,
      "outputs": []
    },
    {
      "cell_type": "markdown",
      "metadata": {
        "id": "-CrAJQ0lsGtr"
      },
      "source": [
        "## Example of Phate on Uniform Data"
      ]
    },
    {
      "cell_type": "code",
      "metadata": {
        "id": "CPgf1PKC2sQg",
        "outputId": "c87251b2-eb7e-4145-cc48-9cfba128acea",
        "colab": {
          "base_uri": "https://localhost:8080/",
          "height": 1000
        }
      },
      "source": [
        "PhateOp=phate.PHATE(knn=20, decay=None, t='auto', mds_solver='smacof')\n",
        "PhateData = PhateOp.fit_transform(np_possible_score.copy())\n",
        "phate.plot.scatter2d(PhateData,c=cluster,cmap='Blues',figsize=(10,10))"
      ],
      "execution_count": null,
      "outputs": [
        {
          "output_type": "stream",
          "text": [
            "Calculating PHATE...\n",
            "  Running PHATE on 84672 observations and 7 variables.\n",
            "  Calculating graph and diffusion operator...\n",
            "    Calculating KNN search...\n",
            "    Calculated KNN search in 10.42 seconds.\n",
            "  Calculated graph and diffusion operator in 10.51 seconds.\n",
            "  Calculating landmark operator...\n",
            "    Calculating SVD...\n",
            "    Calculated SVD in 11.47 seconds.\n",
            "    Calculating KMeans...\n",
            "    Calculated KMeans in 47.16 seconds.\n",
            "  Calculated landmark operator in 62.28 seconds.\n",
            "  Calculating optimal t...\n",
            "    Automatically selected t = 21\n",
            "  Calculated optimal t in 4.73 seconds.\n",
            "  Calculating diffusion potential...\n",
            "  Calculated diffusion potential in 2.90 seconds.\n",
            "  Calculating metric MDS...\n",
            "  Calculated metric MDS in 24.53 seconds.\n",
            "Calculated PHATE in 104.99 seconds.\n"
          ],
          "name": "stdout"
        },
        {
          "output_type": "stream",
          "text": [
            "/usr/local/lib/python3.6/dist-packages/ipykernel_launcher.py:3: DeprecationWarning: Call to deprecated function (or staticmethod) scatter2d. (Use scprep.plot.scatter2d instead) -- Deprecated since version 1.0.0.\n",
            "  This is separate from the ipykernel package so we can avoid doing imports until\n"
          ],
          "name": "stderr"
        },
        {
          "output_type": "execute_result",
          "data": {
            "text/plain": [
              "<matplotlib.axes._subplots.AxesSubplot at 0x7fb5665e67b8>"
            ]
          },
          "metadata": {
            "tags": []
          },
          "execution_count": 23
        },
        {
          "output_type": "display_data",
          "data": {
            "image/png": "[encoded data removed]",
            "text/plain": [
              "<Figure size 720x720 with 2 Axes>"
            ]
          },
          "metadata": {
            "tags": [],
            "needs_background": "light"
          }
        }
      ]
    },
    {
      "cell_type": "markdown",
      "metadata": {
        "id": "Iq4G4iJZsQBW"
      },
      "source": [
        "## Change in PHATE by decaying kernel"
      ]
    },
    {
      "cell_type": "code",
      "metadata": {
        "id": "iCgbgd984UkH",
        "outputId": "97146779-1ea2-4dd0-ea57-b6eb0b35fa9b",
        "colab": {
          "base_uri": "https://localhost:8080/",
          "height": 493
        }
      },
      "source": [
        "for alpha in [None,2,4,8,16]:\n",
        "    PhateOp=phate.PHATE(knn=20, decay=alpha, t='auto', mds_solver='smacof')\n",
        "    PhateData = PhateOp.fit_transform(np_possible_score.copy())\n",
        "    phate.plot.scatter2d(PhateData,c=cluster,cmap='Blues',figsize=(10,10), title='alpha = {}'.format(alpha))"
      ],
      "execution_count": null,
      "outputs": [
        {
          "output_type": "stream",
          "text": [
            "Calculating PHATE...\n",
            "  Running PHATE on 84672 observations and 7 variables.\n",
            "  Calculating graph and diffusion operator...\n",
            "    Calculating KNN search...\n",
            "    Calculated KNN search in 10.25 seconds.\n",
            "  Calculated graph and diffusion operator in 10.34 seconds.\n",
            "  Calculating landmark operator...\n",
            "    Calculating SVD...\n",
            "    Calculated SVD in 11.38 seconds.\n",
            "    Calculating KMeans...\n",
            "    Calculated KMeans in 57.56 seconds.\n",
            "  Calculated landmark operator in 72.40 seconds.\n",
            "  Calculating optimal t...\n",
            "    Automatically selected t = 21\n",
            "  Calculated optimal t in 4.74 seconds.\n",
            "  Calculating diffusion potential...\n",
            "  Calculated diffusion potential in 2.77 seconds.\n",
            "  Calculating metric MDS...\n",
            "  Calculated metric MDS in 26.81 seconds.\n",
            "Calculated PHATE in 117.09 seconds.\n"
          ],
          "name": "stdout"
        },
        {
          "output_type": "stream",
          "text": [
            "/usr/local/lib/python3.6/dist-packages/ipykernel_launcher.py:4: DeprecationWarning: Call to deprecated function (or staticmethod) scatter2d. (Use scprep.plot.scatter2d instead) -- Deprecated since version 1.0.0.\n",
            "  after removing the cwd from sys.path.\n"
          ],
          "name": "stderr"
        },
        {
          "output_type": "stream",
          "text": [
            "Calculating PHATE...\n",
            "  Running PHATE on 84672 observations and 7 variables.\n",
            "  Calculating graph and diffusion operator...\n",
            "    Calculating KNN search...\n",
            "    Calculated KNN search in 23.01 seconds.\n",
            "    Calculating affinities...\n"
          ],
          "name": "stdout"
        }
      ]
    },
    {
      "cell_type": "markdown",
      "metadata": {
        "id": "inXbGBvssdrt"
      },
      "source": [
        "## Colored by Domain's score"
      ]
    },
    {
      "cell_type": "code",
      "metadata": {
        "id": "d8E9loF57JGF"
      },
      "source": [
        "for i in range(7):\n",
        "    cluster_i=np_possible_score[:,i]\n",
        "    phate.plot.scatter2d(data_phate,c=cluster_i,cmap='Blues',figsize=(10,10), title='cluster by domain {}'.format(i+1))"
      ],
      "execution_count": null,
      "outputs": []
    }
  ]
}